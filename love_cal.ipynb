{
 "cells": [
  {
   "cell_type": "code",
   "execution_count": 1,
   "id": "outer-claim",
   "metadata": {},
   "outputs": [
    {
     "name": "stdout",
     "output_type": "stream",
     "text": [
      "Welcome Buddy..! Calculate your love percentage \n",
      " First Output is true one\n",
      "What is the name of prince :gfhgf\n",
      "What is the name of princess:hgfh\n",
      "Chances of true love together is61%\n"
     ]
    }
   ],
   "source": [
    "import random\n",
    "\n",
    "print(\"Welcome Buddy..! Calculate your love percentage \\n First Output is true one\")\n",
    "\n",
    "prince=input (\"What is the name of prince :\")\n",
    "\n",
    "princess=input(\"What is the name of princess:\")\n",
    "\n",
    "boy=(len(prince))\n",
    "\n",
    "girl=(len(princess))\n",
    "\n",
    "rnd=random.randint(1,20)\n",
    "\n",
    "percentage=100-(boy*girl)-rnd\n",
    "\n",
    "print(\"Chances of true love together is\"+str(percentage)+\"%\")"
   ]
  },
  {
   "cell_type": "code",
   "execution_count": null,
   "id": "regional-toyota",
   "metadata": {},
   "outputs": [],
   "source": []
  }
 ],
 "metadata": {
  "kernelspec": {
   "display_name": "Python 3",
   "language": "python",
   "name": "python3"
  },
  "language_info": {
   "codemirror_mode": {
    "name": "ipython",
    "version": 3
   },
   "file_extension": ".py",
   "mimetype": "text/x-python",
   "name": "python",
   "nbconvert_exporter": "python",
   "pygments_lexer": "ipython3",
   "version": "3.7.4"
  }
 },
 "nbformat": 4,
 "nbformat_minor": 5
}
